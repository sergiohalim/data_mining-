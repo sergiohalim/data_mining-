{
  "nbformat": 4,
  "nbformat_minor": 0,
  "metadata": {
    "colab": {
      "provenance": []
    },
    "kernelspec": {
      "name": "python3",
      "display_name": "Python 3"
    },
    "language_info": {
      "name": "python"
    }
  },
  "cells": [
    {
      "cell_type": "markdown",
      "source": [
        "Bernadus Sergio Halim\n",
        "0706022210056"
      ],
      "metadata": {
        "id": "lq_6VyobQ_Wb"
      }
    },
    {
      "cell_type": "markdown",
      "source": [
        "program fatorial rekarsif"
      ],
      "metadata": {
        "id": "uM_WKl5pZyJn"
      }
    },
    {
      "cell_type": "code",
      "execution_count": null,
      "metadata": {
        "id": "TeV4X43yPvzI",
        "colab": {
          "base_uri": "https://localhost:8080/"
        },
        "outputId": "f3428e89-a3df-4228-b6e0-c2bae8895dcf"
      },
      "outputs": [
        {
          "output_type": "stream",
          "name": "stdout",
          "text": [
            "Masukkan angka: 8\n",
            "Faktorial dari 8 adalah 40320\n"
          ]
        }
      ],
      "source": [
        "def faktorial(n):\n",
        "    # Basis rekursif: jika n = 0 atau n = 1, faktorialnya 1\n",
        "    if n == 0 or n == 1:\n",
        "        return 1\n",
        "    else:\n",
        "       faktorial dari n-1\n",
        "        return n * faktorial(n-1)\n",
        "\n",
        "# untuk Meminta input dari pengguna\n",
        "angka = int(input(\"Masukkan angka: \"))\n",
        "\n",
        "#  untuk Memastikan angka tidak negatif\n",
        "if angka < 0:\n",
        "    print(\"Faktorial tidak terdefinisi untuk angka negatif.\")\n",
        "else:\n",
        "    hasil = faktorial(angka)\n",
        "    print(f\"Faktorial dari {angka} adalah {hasil}\")\n"
      ]
    },
    {
      "cell_type": "markdown",
      "source": [],
      "metadata": {
        "id": "q5qKxKCxZw6W"
      }
    },
    {
      "cell_type": "markdown",
      "source": [
        "program fibonaci rekarsif"
      ],
      "metadata": {
        "id": "sQ88vTkgaJEP"
      }
    },
    {
      "cell_type": "code",
      "source": [
        "def fibonacci(n):\n",
        "    # Basis rekursif: jika n = 0 atau n = 1, hasilnya n itu sendiri\n",
        "    if n == 0:\n",
        "        return 0\n",
        "    elif n == 1:\n",
        "        return 1\n",
        "    else:\n",
        "        jumlah dari dua angka Fibonacci sebelumnya\n",
        "        return fibonacci(n-1) + fibonacci(n-2)\n",
        "\n",
        "# untuk Meminta input dari pengguna\n",
        "angka = int(input(\"Masukkan angka: \"))\n",
        "\n",
        "# untuk Memastikan input adalah angka non-negatif\n",
        "if angka < 0:\n",
        "    print(\"Deret Fibonacci tidak terdefinisi untuk angka negatif.\")\n",
        "else:\n",
        "    hasil = fibonacci(angka)\n",
        "    print(f\"Angka Fibonacci ke-{angka} adalah {hasil}\")\n"
      ],
      "metadata": {
        "id": "Gph-c2BYQlwT",
        "colab": {
          "base_uri": "https://localhost:8080/"
        },
        "outputId": "1299309f-00c7-4965-ed43-3710f4000c7b"
      },
      "execution_count": null,
      "outputs": [
        {
          "output_type": "stream",
          "name": "stdout",
          "text": [
            "Masukkan angka: 6\n",
            "Angka Fibonacci ke-6 adalah 8\n"
          ]
        }
      ]
    },
    {
      "cell_type": "markdown",
      "source": [
        "3 program rekarsif lainnya"
      ],
      "metadata": {
        "id": "VfVEbgPaaTbf"
      }
    },
    {
      "cell_type": "code",
      "source": [
        "def faktorial(n):\n",
        "    if n == 0 or n == 1:\n",
        "        return 1\n",
        "    else:\n",
        "        return n * faktorial(n-1)\n",
        "\n",
        "\n",
        "angka = int(input(\"Masukkan angka: \"))\n",
        "print(f\"Faktorial dari {angka} adalah {faktorial(angka)}\")\n"
      ],
      "metadata": {
        "colab": {
          "base_uri": "https://localhost:8080/"
        },
        "id": "3hS2AF4RXqLl",
        "outputId": "a0848029-862b-4a24-9d29-25fe03cc0941"
      },
      "execution_count": null,
      "outputs": [
        {
          "output_type": "stream",
          "name": "stdout",
          "text": [
            "Masukkan angka: 8\n",
            "Faktorial dari 8 adalah 40320\n"
          ]
        }
      ]
    },
    {
      "cell_type": "code",
      "source": [
        "def fibonacci(n):\n",
        "    if n == 0:\n",
        "        return 0\n",
        "    elif n == 1:\n",
        "        return 1\n",
        "    else:\n",
        "        return fibonacci(n-1) + fibonacci(n-2)\n",
        "\n",
        "angka = int(input(\"Masukkan angka: \"))\n",
        "print(f\"Bilangan Fibonacci ke-{angka} adalah {fibonacci(angka)}\")\n"
      ],
      "metadata": {
        "colab": {
          "base_uri": "https://localhost:8080/"
        },
        "id": "ZWbEJagpZY9r",
        "outputId": "fa197426-d089-4f20-b38e-22575c6c9e39"
      },
      "execution_count": null,
      "outputs": [
        {
          "output_type": "stream",
          "name": "stdout",
          "text": [
            "Masukkan angka: 5\n",
            "Bilangan Fibonacci ke-5 adalah 5\n"
          ]
        }
      ]
    },
    {
      "cell_type": "code",
      "source": [
        "def hitung_mundur(n):\n",
        "    if n == 0:\n",
        "        print(\"Selesai!\")\n",
        "    else:\n",
        "        print(n)\n",
        "        hitung_mundur(n-1)\n",
        "\n",
        "angka = int(input(\"Masukkan angka: \"))\n",
        "hitung_mundur(angka)\n"
      ],
      "metadata": {
        "colab": {
          "base_uri": "https://localhost:8080/"
        },
        "id": "zqCa9GHTZhky",
        "outputId": "5d109ea3-0c1f-48a2-8b3d-0731137d9d1d"
      },
      "execution_count": null,
      "outputs": [
        {
          "output_type": "stream",
          "name": "stdout",
          "text": [
            "Masukkan angka: 5\n",
            "5\n",
            "4\n",
            "3\n",
            "2\n",
            "1\n",
            "Selesai!\n"
          ]
        }
      ]
    },
    {
      "cell_type": "markdown",
      "source": [
        "enthropy"
      ],
      "metadata": {
        "id": "P9x6kMbdaZay"
      }
    },
    {
      "cell_type": "code",
      "source": [
        "import math\n",
        "\n",
        "def hitung_entropi(yes_count, no_count):\n",
        "    total = yes_count + no_count\n",
        "\n",
        "    # Jika tidak ada data, entropi adalah 0\n",
        "    if total == 0:\n",
        "        return 0\n",
        "\n",
        "    # Menghitung probabilitas\n",
        "    p_yes = yes_count / total if yes_count > 0 else 0\n",
        "    p_no = no_count / total if no_count > 0 else 0\n",
        "\n",
        "    # Menghitung entropi menggunakan rumus Shannon\n",
        "    entropi_yes = -p_yes * math.log2(p_yes) if p_yes > 0 else 0\n",
        "    entropi_no = -p_no * math.log2(p_no) if p_no > 0 else 0\n",
        "\n",
        "    total_entropi = entropi_yes + entropi_no\n",
        "    return total_entropi\n",
        "\n",
        "# Meminta input dari pengguna\n",
        "yes_count = int(input(\"Masukkan jumlah 'Yes': \"))\n",
        "no_count = int(input(\"Masukkan jumlah 'No': \"))\n",
        "\n",
        "# Menghitung dan menampilkan entropi\n",
        "entropi = hitung_entropi(yes_count, no_count)\n",
        "print(f\"Entropi dari data tersebut adalah: {entropi:.4f}\")\n"
      ],
      "metadata": {
        "id": "YXxnc55IZg1h",
        "colab": {
          "base_uri": "https://localhost:8080/"
        },
        "outputId": "aaf5a245-575c-47d1-dc41-911e60a818b9"
      },
      "execution_count": null,
      "outputs": [
        {
          "output_type": "stream",
          "name": "stdout",
          "text": [
            "Masukkan jumlah 'Yes': 8\n",
            "Masukkan jumlah 'No': 0\n",
            "Entropi dari data tersebut adalah: 0.0000\n"
          ]
        }
      ]
    },
    {
      "cell_type": "markdown",
      "source": [
        "gini"
      ],
      "metadata": {
        "id": "IGRcXG-jxTMS"
      }
    },
    {
      "cell_type": "code",
      "source": [
        "def hitung_gini(yes_count, no_count):\n",
        "    total = yes_count + no_count\n",
        "\n",
        "    # Jika tidak ada data, Gini Index adalah 0\n",
        "    if total == 0:\n",
        "        return 0\n",
        "\n",
        "    # Menghitung probabilitas\n",
        "    p_yes = yes_count / total\n",
        "    p_no = no_count / total\n",
        "\n",
        "    # Menghitung Indeks Gini\n",
        "    gini = 1 - (p_yes**2 + p_no**2)\n",
        "\n",
        "    return gini\n",
        "\n",
        "yes_count = int(input(\"Masukkan jumlah 'Yes': \"))\n",
        "no_count = int(input(\"Masukkan jumlah 'No': \"))\n",
        "\n",
        "gini_index = hitung_gini(yes_count, no_count)\n",
        "print(f\"Indeks Gini dari data tersebut adalah: {gini_index:.4f}\")\n",
        "3"
      ],
      "metadata": {
        "colab": {
          "base_uri": "https://localhost:8080/"
        },
        "id": "xZl4pYSDxSgR",
        "outputId": "ac530905-92fe-4dae-8049-82ca3519e9a2"
      },
      "execution_count": null,
      "outputs": [
        {
          "output_type": "stream",
          "name": "stdout",
          "text": [
            "Masukkan jumlah 'Yes': 3\n",
            "Masukkan jumlah 'No': 3\n",
            "Indeks Gini dari data tersebut adalah: 0.5000\n"
          ]
        }
      ]
    },
    {
      "cell_type": "markdown",
      "source": [
        "\n",
        "classification error"
      ],
      "metadata": {
        "id": "nxfpUGAXqIxz"
      }
    },
    {
      "cell_type": "code",
      "source": [
        "def claserror(n, y):\n",
        "  if n >= y:\n",
        "    return 1-(n/(n+y))\n",
        "  else:\n",
        "    return 1-(y/(n+y))\n",
        "\n",
        "\n",
        "n = int(input(\"masukan angka: \"))\n",
        "y = int(input(\"masukan angka: \"))\n",
        "h=claserror(n,y)\n",
        "print(h)"
      ],
      "metadata": {
        "id": "KbPJjcrWxYZj",
        "colab": {
          "base_uri": "https://localhost:8080/"
        },
        "outputId": "23105a30-1048-4149-a73c-2640592f3d6c"
      },
      "execution_count": null,
      "outputs": [
        {
          "output_type": "stream",
          "name": "stdout",
          "text": [
            "Confusion Matrix:\n",
            "[[4 1]\n",
            " [2 3]]\n",
            "\n",
            "Accuracy: 0.70\n",
            "Precision: 0.75\n",
            "Recall: 0.60\n",
            "F1 Score: 0.67\n",
            "Error Rate: 0.30\n"
          ]
        }
      ]
    },
    {
      "cell_type": "code",
      "source": [],
      "metadata": {
        "id": "yMk0SVivqAo2"
      },
      "execution_count": null,
      "outputs": []
    }
  ]
}